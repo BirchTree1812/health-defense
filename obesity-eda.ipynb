{
 "cells": [
  {
   "cell_type": "code",
   "execution_count": null,
   "metadata": {},
   "outputs": [],
   "source": [
    "import pandas as pd \n",
    "import numpy as np \n",
    "import matplotlib.pyplot as plt \n",
    "import seaborn as sns \n",
    "from scipy import stats\n",
    "import warnings\n",
    "sns.set_style(\"darkgrid\")\n"
   ]
  },
  {
   "cell_type": "code",
   "execution_count": null,
   "metadata": {},
   "outputs": [],
   "source": [
    "data = pd.read_csv(\"ObesityDataSet_raw_and_data_sinthetic.csv")\n",
    "data.head()\n",
    "data.info()\n"
   ]
  },
  {
   "cell_type": "code",
   "execution_count": null,
   "metadata": {},
   "outputs": [],
   "source": [
    "# Data wrangling\n",
    "data.duplicated().sum()\n",
    "data.loc[data.duplicated(keep=False), :]\n",
    "\n",
    "data = data.rename(columns={\"CALC\":\"alcohol_drinking_frequency\",\n",
    "            \"FAVC\":\"high_calorie_food_eat\",\n",
    "            \"FCVC\":\"vegetable_eat_daily\",\n",
    "            \"NCP\":\"number_of_meals_daily\",\n",
    "            \"SCC\":\"calories_monitoring\",\n",
    "            \"CH2O\":\"water_drinking_daily\",\n",
    "            \"FAF\":\"physical_activity_daily\",\n",
    "            \"TUE\":\"electronics_usage_daily\",\n",
    "            \"CAEC\":\"food_between_meals\",\n",
    "            \"MTRANS\":\"method_of_transportion\"})\n",
    "for col in ['Age', 'Weight', 'vegetable_eat_daily','number_of_meals_daily', 'water_drinking_daily','physical_activity_daily','electronics_usage_daily']:\n",
    "    data[col] = data.loc[:,col].round().astype(int)\n",
    "data.describe()"
   ]
  }
 ],
 "metadata": {
  "kernelspec": {
   "display_name": "v",
   "language": "python",
   "name": "python3"
  },
  "language_info": {
   "name": "python",
   "version": "3.12.2"
  }
 },
 "nbformat": 4,
 "nbformat_minor": 2
}
